{
  "nbformat": 4,
  "nbformat_minor": 0,
  "metadata": {
    "colab": {
      "provenance": [],
      "collapsed_sections": [
        "Q1mX3T140IeT",
        "aKsC3BCdBM-g",
        "5FAL4XrIENik",
        "kn7m-qywGMP5",
        "HGmcHm62HWUM",
        "1OGo-xUzcxmr",
        "JfZBQa-pfYZv",
        "A11OuZoLNJOF",
        "18_uUJ6fRdD6"
      ],
      "include_colab_link": true
    },
    "kernelspec": {
      "name": "python3",
      "display_name": "Python 3"
    },
    "language_info": {
      "name": "python"
    }
  },
  "cells": [
    {
      "cell_type": "markdown",
      "metadata": {
        "id": "view-in-github",
        "colab_type": "text"
      },
      "source": [
        "<a href=\"https://colab.research.google.com/github/wandakinasih/datasets/blob/main/pre_test_wrangling_wanda_kinasih.ipynb\" target=\"_parent\"><img src=\"https://colab.research.google.com/assets/colab-badge.svg\" alt=\"Open In Colab\"/></a>"
      ]
    },
    {
      "cell_type": "markdown",
      "source": [
        "# **Pre-test: Wrangling & Visualize Data**\n",
        "\n",
        "Advance Program, Sekolah Data - Pacmann AI"
      ],
      "metadata": {
        "id": "XSh8WO-7x64_"
      }
    },
    {
      "cell_type": "markdown",
      "source": [
        "---\n",
        "## **Test Descriptions**\n",
        "\n",
        "1. This is a pretest in Wrangling & Visualize Data\n",
        "2. There are 10 questions.\n",
        "3. The maximum score is 100.\n",
        "4. To **pass the test**, your minimum score must be 60.\n",
        "5. You only can only do this test once a day.\n",
        "6. You can retake the test several times.\n",
        "7. We will update your score every morning around 10.00 to 11.00 WIB.\n",
        "8. We will submit your highest score to the system.\n",
        "9. The estimate duration to do this test is about 60 minutes.\n",
        "10. Take a note that the objective of this test is to check your basic understanding for the Sekolah Data Advance program.\n",
        "11. Download this notebook and do it in your local/notebook/google colab.\n",
        "12. Please give the final answer according to this format\n",
        "13. Submit your answer by uploading the file to [HERE](https://forms.gle/PrtK14Z1yHFEgTCQ6) with filename `pre-test-wrangling-your_name.ipynb`\n",
        "14. **LINK DATASET**: [click here](https://drive.google.com/file/d/1MIesff9HTZXVeuhl4DMezGeO-qgrlwHf/view?usp=sharing)\n",
        "15. <font color=\"red\">Do not delete `print(answer_x)` in each cell</font>"
      ],
      "metadata": {
        "id": "ljHc_SlqzZrS"
      }
    },
    {
      "cell_type": "code",
      "source": [
        "# Run this program\n",
        "import numpy as np\n",
        "import pandas as pd\n",
        "import matplotlib.pyplot as plt\n",
        "import seaborn as sns"
      ],
      "metadata": {
        "id": "Ou-H1393H-UH"
      },
      "execution_count": 1,
      "outputs": []
    },
    {
      "cell_type": "markdown",
      "source": [
        "---\n",
        "# **Question 1** - Create DataFrame [10 pts]"
      ],
      "metadata": {
        "id": "fnifDYVi1kKd"
      }
    },
    {
      "cell_type": "markdown",
      "source": [
        "- Given a student performance index table as follows\n",
        "\n",
        "<center>\n",
        "\n",
        "| **Students** | **Age** | **GPA** |\n",
        "|:--------------:|:--------:|:-------:|\n",
        "| Budi | 24 | 3.57 |\n",
        "| Cahyo | 21 | 3.8 |\n",
        "| Angga | 23 | 3.24 |\n",
        "| Somad | 20 | 2.95 |\n",
        "| Endang | 23 | 3.88 |\n",
        "| Juju | 24 | -1.0 |\n"
      ],
      "metadata": {
        "id": "pcYTOqY51nbk"
      }
    },
    {
      "cell_type": "markdown",
      "source": [
        "- Create the above table as a Pandas Dataframe"
      ],
      "metadata": {
        "id": "xx5jqeK88nJB"
      }
    },
    {
      "cell_type": "code",
      "source": [
        "# Write your answer in here\n",
        "\n",
        "lst = [['Budi', 24, 3.57], ['Cahyo', 21, 3.8],['Angga', 23, 3.24], ['Somad', 20, 2.95], ['Endang', 23, 3.88], ['Juju', 24, -1.0]]\n",
        "answer_1 = pd.DataFrame(lst, columns =['Students', 'Age', 'GPA'])\n",
        "print(answer_1)\n",
        "print(answer_1.shape)"
      ],
      "metadata": {
        "id": "-C9yHUna1l4C",
        "colab": {
          "base_uri": "https://localhost:8080/"
        },
        "outputId": "ba6f7852-ebe8-46f2-f1be-714d524fd43b"
      },
      "execution_count": 2,
      "outputs": [
        {
          "output_type": "stream",
          "name": "stdout",
          "text": [
            "  Students  Age   GPA\n",
            "0     Budi   24  3.57\n",
            "1    Cahyo   21  3.80\n",
            "2    Angga   23  3.24\n",
            "3    Somad   20  2.95\n",
            "4   Endang   23  3.88\n",
            "5     Juju   24 -1.00\n",
            "(6, 3)\n"
          ]
        }
      ]
    },
    {
      "cell_type": "markdown",
      "source": [
        "---\n",
        "# **Question 2** - Drop invalid data [10 pts]"
      ],
      "metadata": {
        "id": "Q1mX3T140IeT"
      }
    },
    {
      "cell_type": "markdown",
      "source": [
        "- From the previous question, we know that `Juju` data is invalid\n",
        "- because there is no negative GPA.\n",
        "- Drop the invalid data & update the dataframe"
      ],
      "metadata": {
        "id": "nqQtWw8j0Lkj"
      }
    },
    {
      "cell_type": "markdown",
      "source": [
        "- Your updated dataframe should be like this\n",
        "\n",
        "<center>\n",
        "\n",
        "| **Students** | **Age** | **GPA** |\n",
        "|:--------------:|:--------:|:-------:|\n",
        "| Budi | 24 | 3.57 |\n",
        "| Cahyo | 21 | 3.8 |\n",
        "| Angga | 23 | 3.24 |\n",
        "| Somad | 20 | 2.95 |\n",
        "| Endang | 23 | 3.88 |"
      ],
      "metadata": {
        "id": "0PXqc55c-PBC"
      }
    },
    {
      "cell_type": "code",
      "execution_count": 3,
      "metadata": {
        "id": "DdX0Ng65xync",
        "colab": {
          "base_uri": "https://localhost:8080/"
        },
        "outputId": "0127d013-c427-493d-bf51-b6f1b0b9c199"
      },
      "outputs": [
        {
          "output_type": "stream",
          "name": "stdout",
          "text": [
            "  Students  Age   GPA\n",
            "0     Budi   24  3.57\n",
            "1    Cahyo   21  3.80\n",
            "2    Angga   23  3.24\n",
            "3    Somad   20  2.95\n",
            "4   Endang   23  3.88\n",
            "(5, 3)\n"
          ]
        }
      ],
      "source": [
        "# Write your program in here\n",
        "answer_2 = answer_1[(answer_1['GPA']>=0)]\n",
        "\n",
        "print(answer_2)\n",
        "print(answer_2.shape)"
      ]
    },
    {
      "cell_type": "markdown",
      "source": [
        "---\n",
        "# **Question 3** - Create a New Variable [10 pts]"
      ],
      "metadata": {
        "id": "aKsC3BCdBM-g"
      }
    },
    {
      "cell_type": "markdown",
      "source": [
        "- Then, the teacher want to convert the GPA into score (in categorics).\n",
        "- He/she create a GPA threshold\n",
        "    - If GPA > 3.75, `score`: 'A'\n",
        "    - Else if GPA > 3.5, `score`: 'AB'\n",
        "    - Else if GPA > 3.0, `score`: 'B'\n",
        "    - Else, `score`: 'C'"
      ],
      "metadata": {
        "id": "h3AafbjHBREx"
      }
    },
    {
      "cell_type": "markdown",
      "source": [
        "- Apply a function to create the column `score` in the DataFrame"
      ],
      "metadata": {
        "id": "SsZfL-pyDvYq"
      }
    },
    {
      "cell_type": "markdown",
      "source": [
        "- Your updated dataframe should be like this\n",
        "\n",
        "<center>\n",
        "\n",
        "|**Students**|**Age**|**GPA**|**Score**|\n",
        "|:-:|:-:|:-:|:-:|\n",
        "| Budi | 24 | 3.57 | AB |\n",
        "| Cahyo | 21 | 3.8 | A |\n",
        "| Angga | 23 | 3.24 | B |\n",
        "| Somad | 20 | 2.95 | C |\n",
        "| Endang | 23 | 3.88 | A |"
      ],
      "metadata": {
        "id": "nUGqYCOU_8Ru"
      }
    },
    {
      "cell_type": "code",
      "source": [
        "# Write your function here [5 pts]\n",
        "def scoring(row):\n",
        "  if row> 3.75: result = 'A'\n",
        "  elif row>= 3.5: result = 'AB'\n",
        "  elif row>= 3.0: result = 'B'\n",
        "  else: result = 'C'\n",
        "\n",
        "  return result"
      ],
      "metadata": {
        "id": "U51FCjtn_r5Y"
      },
      "execution_count": 4,
      "outputs": []
    },
    {
      "cell_type": "code",
      "source": [
        "# Write your program in here [5 pts]\n",
        "\n",
        "answer_2['Score'] = answer_2['GPA'].apply(scoring)\n",
        "answer_3 = answer_2\n",
        "\n",
        "print(answer_3)\n",
        "print(answer_3.shape)"
      ],
      "metadata": {
        "id": "S8s3_yYUBPdn",
        "colab": {
          "base_uri": "https://localhost:8080/"
        },
        "outputId": "069a80ac-d029-4ad1-ba01-840e98ab83e7"
      },
      "execution_count": 5,
      "outputs": [
        {
          "output_type": "stream",
          "name": "stdout",
          "text": [
            "  Students  Age   GPA Score\n",
            "0     Budi   24  3.57    AB\n",
            "1    Cahyo   21  3.80     A\n",
            "2    Angga   23  3.24     B\n",
            "3    Somad   20  2.95     C\n",
            "4   Endang   23  3.88     A\n",
            "(5, 4)\n"
          ]
        },
        {
          "output_type": "stream",
          "name": "stderr",
          "text": [
            "<ipython-input-5-572ae2e21e18>:3: SettingWithCopyWarning: \n",
            "A value is trying to be set on a copy of a slice from a DataFrame.\n",
            "Try using .loc[row_indexer,col_indexer] = value instead\n",
            "\n",
            "See the caveats in the documentation: https://pandas.pydata.org/pandas-docs/stable/user_guide/indexing.html#returning-a-view-versus-a-copy\n",
            "  answer_2['Score'] = answer_2['GPA'].apply(scoring)\n"
          ]
        }
      ]
    },
    {
      "cell_type": "markdown",
      "source": [
        "---\n",
        "# **Question 4** - Filtering DataFrame [10 pts]"
      ],
      "metadata": {
        "id": "5FAL4XrIENik"
      }
    },
    {
      "cell_type": "markdown",
      "source": [
        "- The dean want to recommend students to a scholarship.\n",
        "- But the scholarship only approve students with Score minimum `AB` and age maximum 23 years old.\n",
        "- Filter the data to help the dean."
      ],
      "metadata": {
        "id": "BOQPd6V_ENir"
      }
    },
    {
      "cell_type": "markdown",
      "source": [
        "- Your updated dataframe should be like this\n",
        "\n",
        "<center>\n",
        "\n",
        "|**Students**|**Age**|**GPA**|**Score**|\n",
        "|:-:|:-:|:-:|:-:|\n",
        "| Cahyo | 21 | 3.8 | A |\n",
        "| Endang | 23 | 3.88 | A |"
      ],
      "metadata": {
        "id": "259uItxbC2-8"
      }
    },
    {
      "cell_type": "code",
      "source": [
        "# Write your program in here\n",
        "\n",
        "answer_4 = answer_3[(answer_3['GPA']>=3.5) & (answer_3['Age']<=23)]\n",
        "\n",
        "print(answer_4)\n",
        "print(answer_4.shape)"
      ],
      "metadata": {
        "id": "iMCSiEawENi3",
        "colab": {
          "base_uri": "https://localhost:8080/"
        },
        "outputId": "1f973557-cc19-4357-9d02-079eaadd99b9"
      },
      "execution_count": 6,
      "outputs": [
        {
          "output_type": "stream",
          "name": "stdout",
          "text": [
            "  Students  Age   GPA Score\n",
            "1    Cahyo   21  3.80     A\n",
            "4   Endang   23  3.88     A\n",
            "(2, 4)\n"
          ]
        }
      ]
    },
    {
      "cell_type": "markdown",
      "source": [
        "---\n",
        "# **Question 5** - Read DataFrame [10 pts]"
      ],
      "metadata": {
        "id": "kn7m-qywGMP5"
      }
    },
    {
      "cell_type": "markdown",
      "source": [
        "- Given a supermarket data\n",
        "- Read the supermarket data from file `supermarket_sales_raw.csv` as a Pandas DataFrame"
      ],
      "metadata": {
        "id": "EbSqIYvCGMQB"
      }
    },
    {
      "cell_type": "code",
      "source": [
        "# You should copy the dataset from the given link\n",
        "# filename = \"supermarket_sales_raw.csv\""
      ],
      "metadata": {
        "id": "IxDP9Z_FHIuc"
      },
      "execution_count": 7,
      "outputs": []
    },
    {
      "cell_type": "code",
      "source": [
        "# Write your program in here\n",
        "answer_5 = pd.read_csv(\"https://raw.githubusercontent.com/wandakinasih/datasets/main/supermarket_sales_raw.csv\")\n",
        "\n",
        "print(answer_5.head())\n",
        "print(answer_5.shape)"
      ],
      "metadata": {
        "id": "cjnACWOiGMQJ",
        "colab": {
          "base_uri": "https://localhost:8080/"
        },
        "outputId": "a96d8514-790c-47af-b384-e943adfe33a0"
      },
      "execution_count": 8,
      "outputs": [
        {
          "output_type": "stream",
          "name": "stdout",
          "text": [
            "    Invoice ID Branch       City Customer type  Gender  \\\n",
            "0  750-67-8428      A     Yangon        Member  Female   \n",
            "1  226-31-3081      C  Naypyitaw        Normal  Female   \n",
            "2  631-41-3108      A     Yangon        Normal    Male   \n",
            "3  123-19-1176      A     Yangon        Member    Male   \n",
            "4  373-73-7910      A     Yangon        Normal    Male   \n",
            "\n",
            "             Product line  Unit price  Quantity   Tax 5%     Total       Date  \\\n",
            "0       Health and beauty       74.69         7  26.1415  548.9715   1/5/2019   \n",
            "1  Electronic accessories       15.28         5   3.8200   80.2200   3/8/2019   \n",
            "2      Home and lifestyle       46.33         7  16.2155  340.5255   3/3/2019   \n",
            "3       Health and beauty       58.22         8  23.2880  489.0480  1/27/2019   \n",
            "4       Sports and travel       86.31         7  30.2085  634.3785   2/8/2019   \n",
            "\n",
            "    Time      Payment    cogs  Rating  \n",
            "0  13:08      Ewallet  522.83     9.1  \n",
            "1  10:29         Cash   76.40     9.6  \n",
            "2  13:23  Credit card  324.31     7.4  \n",
            "3  20:33      Ewallet  465.76     8.4  \n",
            "4  10:37      Ewallet  604.17     5.3  \n",
            "(1000, 15)\n"
          ]
        }
      ]
    },
    {
      "cell_type": "markdown",
      "source": [
        "---\n",
        "# **Question 6** - Filtering a DataFrame [10 pts]"
      ],
      "metadata": {
        "id": "HGmcHm62HWUM"
      }
    },
    {
      "cell_type": "markdown",
      "source": [
        "- Obtain sales that \n",
        "    - Purchase from `Yangon` city\n",
        "    - is a Female\n",
        "    - on a `Health and beauty` product line"
      ],
      "metadata": {
        "id": "sCS_5trLHWUT"
      }
    },
    {
      "cell_type": "code",
      "source": [
        "# Write your program in here\n",
        "\n",
        "answer_6 = answer_5[(answer_5['City']=='Yangon') & (answer_5['Gender']=='Female')& (answer_5['Product line']=='Health and beauty')]\n",
        "\n",
        "print(answer_6.head())\n",
        "print(answer_6.shape)"
      ],
      "metadata": {
        "id": "LoJbUReEHWUg",
        "colab": {
          "base_uri": "https://localhost:8080/"
        },
        "outputId": "7c1bc79d-108c-4716-c760-ef7d233b3563"
      },
      "execution_count": 9,
      "outputs": [
        {
          "output_type": "stream",
          "name": "stdout",
          "text": [
            "     Invoice ID Branch    City Customer type  Gender       Product line  \\\n",
            "0   750-67-8428      A  Yangon        Member  Female  Health and beauty   \n",
            "8   665-32-9167      A  Yangon        Member  Female  Health and beauty   \n",
            "14  829-34-3910      A  Yangon        Normal  Female  Health and beauty   \n",
            "16  656-95-9349      A  Yangon        Member  Female  Health and beauty   \n",
            "69  382-03-4532      A  Yangon        Member  Female  Health and beauty   \n",
            "\n",
            "    Unit price  Quantity   Tax 5%     Total       Date   Time      Payment  \\\n",
            "0        74.69         7  26.1415  548.9715   1/5/2019  13:08      Ewallet   \n",
            "8        36.26         2   3.6260   76.1460  1/10/2019  17:15  Credit card   \n",
            "14       71.38        10  35.6900  749.4900  3/29/2019  19:21         Cash   \n",
            "16       68.93         7  24.1255  506.6355  3/11/2019  11:03  Credit card   \n",
            "69       18.33         1   0.9165   19.2465   2/2/2019  18:50         Cash   \n",
            "\n",
            "      cogs  Rating  \n",
            "0   522.83     9.1  \n",
            "8    72.52     7.2  \n",
            "14  713.80     5.7  \n",
            "16  482.51     4.6  \n",
            "69   18.33     4.3  \n",
            "(21, 15)\n"
          ]
        }
      ]
    },
    {
      "cell_type": "markdown",
      "source": [
        "---\n",
        "# **Question 7** - 1D Visualization [10 pts]"
      ],
      "metadata": {
        "id": "1OGo-xUzcxmr"
      }
    },
    {
      "cell_type": "markdown",
      "source": [
        "- From the question 6 results, visualize the histogram of `Total` using Seaborn"
      ],
      "metadata": {
        "id": "6awcQndtcxmx"
      }
    },
    {
      "cell_type": "code",
      "source": [
        "# Write your program in here - [10 pts]\n",
        "\n",
        "answer_7 = sns.histplot(data=answer_6, x=\"Total\")\n",
        "\n",
        "plt.show()\n",
        "print(answer_7)"
      ],
      "metadata": {
        "id": "mAltYA13cxnA",
        "colab": {
          "base_uri": "https://localhost:8080/",
          "height": 0
        },
        "outputId": "ac838eab-cadd-498c-f59a-71f7423b50fe"
      },
      "execution_count": 10,
      "outputs": [
        {
          "output_type": "display_data",
          "data": {
            "text/plain": [
              "<Figure size 432x288 with 1 Axes>"
            ],
            "image/png": "[encoded data removed]"
          },
          "metadata": {
            "needs_background": "light"
          }
        },
        {
          "output_type": "stream",
          "name": "stdout",
          "text": [
            "AxesSubplot(0.125,0.125;0.775x0.755)\n"
          ]
        }
      ]
    },
    {
      "cell_type": "markdown",
      "source": [
        "---\n",
        "# **Question 8** - Aggregating Dataset [10 pts]"
      ],
      "metadata": {
        "id": "JfZBQa-pfYZv"
      }
    },
    {
      "cell_type": "markdown",
      "source": [
        "- Determine the summary (tendency) of `Total` from the previous data"
      ],
      "metadata": {
        "id": "-hHYJq7NfYZz"
      }
    },
    {
      "cell_type": "code",
      "source": [
        "# Write your program in here - [10 pts]\n",
        "\n",
        "answer_8 = answer_5.groupby(['Gender','Payment','Product line']).sum()\n",
        "\n",
        "print(answer_8)"
      ],
      "metadata": {
        "id": "r_w7fiXZfYZ3",
        "colab": {
          "base_uri": "https://localhost:8080/"
        },
        "outputId": "2b6b5fba-bf0b-41b4-bf2b-d66428a36e90"
      },
      "execution_count": 11,
      "outputs": [
        {
          "output_type": "stream",
          "name": "stdout",
          "text": [
            "                                           Unit price  Quantity    Tax 5%  \\\n",
            "Gender Payment     Product line                                             \n",
            "Female Cash        Electronic accessories     2092.11       206  534.0340   \n",
            "                   Fashion accessories        1637.47       160  444.2705   \n",
            "                   Food and beverages         2102.79       183  610.7680   \n",
            "                   Health and beauty          1137.15       120  332.6070   \n",
            "                   Home and lifestyle         1433.99       147  439.5745   \n",
            "                   Sports and travel          1720.23       188  472.7560   \n",
            "       Credit card Electronic accessories     1348.11       149  432.0200   \n",
            "                   Fashion accessories        1763.62       173  457.8585   \n",
            "                   Food and beverages         1753.62       171  524.2735   \n",
            "                   Health and beauty           903.65       111  266.6970   \n",
            "                   Home and lifestyle         1351.60       174  452.8910   \n",
            "                   Sports and travel          1432.07       150  413.8050   \n",
            "       Ewallet     Electronic accessories      932.11       133  324.5185   \n",
            "                   Fashion accessories        1929.50       197  547.2710   \n",
            "                   Food and beverages         1551.72       160  444.5260   \n",
            "                   Health and beauty          1228.91       112  284.5525   \n",
            "                   Home and lifestyle         1736.57       177  537.8620   \n",
            "                   Sports and travel          1632.02       158  474.1400   \n",
            "Male   Cash        Electronic accessories     1602.72       192  453.1080   \n",
            "                   Fashion accessories        1846.14       120  394.4815   \n",
            "                   Food and beverages         1366.12       112  304.0355   \n",
            "                   Health and beauty          1479.23       173  485.9220   \n",
            "                   Home and lifestyle         1497.66       159  445.6160   \n",
            "                   Sports and travel          1609.48       136  425.9970   \n",
            "       Credit card Electronic accessories     1102.17       113  302.6475   \n",
            "                   Fashion accessories        1365.06       120  367.6210   \n",
            "                   Food and beverages         1575.62       164  439.3070   \n",
            "                   Health and beauty          1890.63       163  493.7540   \n",
            "                   Home and lifestyle          871.02        85  212.9695   \n",
            "                   Sports and travel          1559.51       149  434.5880   \n",
            "       Ewallet     Electronic accessories     2026.55       178  541.1735   \n",
            "                   Fashion accessories        1631.56       132  374.4925   \n",
            "                   Food and beverages         1395.67       162  350.6540   \n",
            "                   Health and beauty          1698.31       175  479.0265   \n",
            "                   Home and lifestyle         1959.87       169  475.9400   \n",
            "                   Sports and travel          1507.57       139  403.6105   \n",
            "\n",
            "                                                Total      cogs  Rating  \n",
            "Gender Payment     Product line                                          \n",
            "Female Cash        Electronic accessories  11214.7140  10680.68   261.8  \n",
            "                   Fashion accessories      9329.6805   8885.41   203.2  \n",
            "                   Food and beverages      12826.1280  12215.36   252.1  \n",
            "                   Health and beauty        6984.7470   6652.14   164.7  \n",
            "                   Home and lifestyle       9231.0645   8791.49   160.1  \n",
            "                   Sports and travel        9927.8760   9455.12   236.3  \n",
            "       Credit card Electronic accessories   9072.4200   8640.40   173.3  \n",
            "                   Fashion accessories      9615.0285   9157.17   223.1  \n",
            "                   Food and beverages      11009.7435  10485.47   224.7  \n",
            "                   Health and beauty        5600.6370   5333.94   137.5  \n",
            "                   Home and lifestyle       9510.7110   9057.82   172.7  \n",
            "                   Sports and travel        8689.9050   8276.10   191.8  \n",
            "       Ewallet     Electronic accessories   6814.8885   6490.37   135.0  \n",
            "                   Fashion accessories     11492.6910  10945.42   257.3  \n",
            "                   Food and beverages       9335.0460   8890.52   171.5  \n",
            "                   Health and beauty        5975.6025   5691.05   155.2  \n",
            "                   Home and lifestyle      11295.1020  10757.24   201.5  \n",
            "                   Sports and travel        9956.9400   9482.80   167.4  \n",
            "Male   Cash        Electronic accessories   9515.2680   9062.16   230.3  \n",
            "                   Fashion accessories      8284.1115   7889.63   195.6  \n",
            "                   Food and beverages       6384.7455   6080.71   166.2  \n",
            "                   Health and beauty       10204.3620   9718.44   189.5  \n",
            "                   Home and lifestyle       9357.9360   8912.32   169.0  \n",
            "                   Sports and travel        8945.9370   8519.94   168.9  \n",
            "       Credit card Electronic accessories   6355.5975   6052.95   157.2  \n",
            "                   Fashion accessories      7720.0410   7352.42   162.2  \n",
            "                   Food and beverages       9225.4470   8786.14   215.0  \n",
            "                   Health and beauty       10368.8340   9875.08   206.0  \n",
            "                   Home and lifestyle       4472.3595   4259.39   132.5  \n",
            "                   Sports and travel        9126.3480   8691.76   182.0  \n",
            "       Ewallet     Electronic accessories  11364.6435  10823.47   219.6  \n",
            "                   Fashion accessories      7864.3425   7489.85   209.8  \n",
            "                   Food and beverages       7363.7340   7013.08   208.2  \n",
            "                   Health and beauty       10059.5565   9580.53   211.6  \n",
            "                   Home and lifestyle       9994.7400   9518.80   258.2  \n",
            "                   Sports and travel        8475.8205   8072.21   201.7  \n"
          ]
        }
      ]
    },
    {
      "cell_type": "markdown",
      "source": [
        "---\n",
        "# **Question 9** - 2D Visualization [10 pts]"
      ],
      "metadata": {
        "id": "A11OuZoLNJOF"
      }
    },
    {
      "cell_type": "markdown",
      "source": [
        "- Visualize the relation between variables `cogs` and `Total` from data that you got in Question-6 using Seaborn"
      ],
      "metadata": {
        "id": "_hCsKkb9NJOJ"
      }
    },
    {
      "cell_type": "code",
      "source": [
        "# Write your program in here - [10 pts]\n",
        "\n",
        "answer_9 = sns.scatterplot(data=answer_6, x=\"cogs\", y=\"Total\")\n",
        "\n",
        "plt.show()\n",
        "print(answer_9)"
      ],
      "metadata": {
        "id": "SOcLLL34NJOL",
        "colab": {
          "base_uri": "https://localhost:8080/",
          "height": 0
        },
        "outputId": "3a79a934-3f37-4276-9a28-a22841f27a52"
      },
      "execution_count": 12,
      "outputs": [
        {
          "output_type": "display_data",
          "data": {
            "text/plain": [
              "<Figure size 432x288 with 1 Axes>"
            ],
            "image/png": "[encoded data removed]"
          },
          "metadata": {
            "needs_background": "light"
          }
        },
        {
          "output_type": "stream",
          "name": "stdout",
          "text": [
            "AxesSubplot(0.125,0.125;0.775x0.755)\n"
          ]
        }
      ]
    },
    {
      "cell_type": "markdown",
      "source": [
        "---\n",
        "# **Question 10** - Grouping DataFrame [10 pts]"
      ],
      "metadata": {
        "id": "18_uUJ6fRdD6"
      }
    },
    {
      "cell_type": "markdown",
      "source": [
        "- From the data you've got on Question-5, you want to analyze the relation between Gender, Payment, & Product line\n",
        "- Thus you groups your dataframe\n",
        "- Use data you got from Question-5 and make a grouping similar to the expected outcome"
      ],
      "metadata": {
        "id": "NNyBuYzGRdEG"
      }
    },
    {
      "cell_type": "code",
      "source": [
        "# Write your program here\n",
        "\n",
        "answer_10 = answer_5.groupby(['Gender','Payment','Product line']).size()\n",
        "\n",
        "print(answer_10)\n",
        "print(answer_10.shape)"
      ],
      "metadata": {
        "colab": {
          "base_uri": "https://localhost:8080/"
        },
        "outputId": "0e04706f-9f1d-44d2-ca93-05f9b6bfbf2f",
        "id": "WQclkTN0RdEN"
      },
      "execution_count": 13,
      "outputs": [
        {
          "output_type": "stream",
          "name": "stdout",
          "text": [
            "Gender  Payment      Product line          \n",
            "Female  Cash         Electronic accessories    38\n",
            "                     Fashion accessories       28\n",
            "                     Food and beverages        33\n",
            "                     Health and beauty         22\n",
            "                     Home and lifestyle        24\n",
            "                     Sports and travel         33\n",
            "        Credit card  Electronic accessories    26\n",
            "                     Fashion accessories       33\n",
            "                     Food and beverages        31\n",
            "                     Health and beauty         19\n",
            "                     Home and lifestyle        26\n",
            "                     Sports and travel         28\n",
            "        Ewallet      Electronic accessories    20\n",
            "                     Fashion accessories       35\n",
            "                     Food and beverages        26\n",
            "                     Health and beauty         23\n",
            "                     Home and lifestyle        29\n",
            "                     Sports and travel         27\n",
            "Male    Cash         Electronic accessories    33\n",
            "                     Fashion accessories       29\n",
            "                     Food and beverages        24\n",
            "                     Health and beauty         27\n",
            "                     Home and lifestyle        27\n",
            "                     Sports and travel         26\n",
            "        Credit card  Electronic accessories    20\n",
            "                     Fashion accessories       23\n",
            "                     Food and beverages        30\n",
            "                     Health and beauty         31\n",
            "                     Home and lifestyle        19\n",
            "                     Sports and travel         25\n",
            "        Ewallet      Electronic accessories    33\n",
            "                     Fashion accessories       30\n",
            "                     Food and beverages        30\n",
            "                     Health and beauty         30\n",
            "                     Home and lifestyle        35\n",
            "                     Sports and travel         27\n",
            "dtype: int64\n",
            "(36,)\n"
          ]
        }
      ]
    },
    {
      "cell_type": "code",
      "source": [],
      "metadata": {
        "id": "8IkOJBF4Aj0N"
      },
      "execution_count": 13,
      "outputs": []
    }
  ]
}